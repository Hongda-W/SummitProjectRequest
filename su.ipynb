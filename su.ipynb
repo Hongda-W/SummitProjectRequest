{
 "cells": [
  {
   "cell_type": "markdown",
   "metadata": {},
   "source": [
    "Below are functions to calculate explicitly.\n",
    "It's probable that some import factors are ignored.\n",
    "\n",
    "`su0` in `su()` needs Lili's input."
   ]
  },
  {
   "cell_type": "code",
   "execution_count": 1,
   "metadata": {},
   "outputs": [],
   "source": [
    "UNIT = ['', 'K', 'M', 'G', 'T', 'P']\n",
    "\n",
    "\n",
    "def _norm(x, base=1024):\n",
    "    \"\"\"\n",
    "    Return x normalized to base unit.\n",
    "    \"\"\"\n",
    "    n = 0\n",
    "    while x/base > 1:\n",
    "        x /= base\n",
    "        n += 1\n",
    "\n",
    "    return f'{x:.1f} {UNIT[n]}'\n",
    "\n",
    "\n",
    "def su(nst, ny=1, ncmp=1, nrun=1, su0=1e-3):\n",
    "    \"\"\"\n",
    "    Return SU of Seed2Cor.\n",
    "    \n",
    "    :param su0: SU for single component of 1 pair of station with 1 year data\n",
    "    \"\"\"\n",
    "    _su = nst*(nst-1)/2 * ny * ncmp * nrun * su0\n",
    "\n",
    "    return f'SU: {_norm(_su, base=1000)}\\n'\n",
    "\n",
    "\n",
    "def fnum_size(nst, ny=1, ncmp=1, nrun=1, sr0=50, sr1=1, len1=7200, size0=3.82):\n",
    "    \"\"\"\n",
    "    Return # and size of total files.\n",
    "    \n",
    "    :param sr0: sampling rate of raw SAC\n",
    "    :param sr1: sampling rate of correlation\n",
    "    :param len1: length of correlation [s]\n",
    "    :param size0: size of 1 point in SAC [byte]\n",
    "    \"\"\"\n",
    "    nraw = nst * 3\n",
    "    sraw = nraw * ny*365*86400 * sr0 * size0\n",
    "    ncc = nst*(nst-1)/2 * ny*365 * ncmp\n",
    "    scc = ncc * sr1*len1 * size0\n",
    "    \n",
    "    ntotal = nraw + ncc\n",
    "    stotal = sraw + scc\n",
    "    \n",
    "    return f'#: {_norm(ntotal, 1000)}, Size: {_norm(stotal)}'"
   ]
  },
  {
   "cell_type": "code",
   "execution_count": 2,
   "metadata": {},
   "outputs": [
    {
     "name": "stdout",
     "output_type": "stream",
     "text": [
      "SU: 431.9 K\n",
      " #: 52.5 G, Size: 1.4 P\n",
      "SU: 44.9 \n",
      " #: 16.4 M, Size: 5.3 T\n"
     ]
    }
   ],
   "source": [
    "# upper limit\n",
    "ul = {\n",
    "    'nst': 4000,\n",
    "    'ny': 2,\n",
    "    'ncmp': 9,\n",
    "    'nrun': 3,\n",
    "     }\n",
    "print(su(**ul), fnum_size(**ul))\n",
    "\n",
    "# lower limit\n",
    "ll = {\n",
    "    'nst': 300,\n",
    "    'ny': 1,\n",
    "    'ncmp': 1,\n",
    "    'nrun': 1,\n",
    "     }\n",
    "print(su(**ll), fnum_size(**ll))"
   ]
  }
 ],
 "metadata": {
  "kernelspec": {
   "display_name": "Python 3",
   "language": "python",
   "name": "python3"
  },
  "language_info": {
   "codemirror_mode": {
    "name": "ipython",
    "version": 3
   },
   "file_extension": ".py",
   "mimetype": "text/x-python",
   "name": "python",
   "nbconvert_exporter": "python",
   "pygments_lexer": "ipython3",
   "version": "3.6.5"
  }
 },
 "nbformat": 4,
 "nbformat_minor": 2
}
